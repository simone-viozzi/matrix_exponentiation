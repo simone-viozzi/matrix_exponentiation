{
 "cells": [
  {
   "cell_type": "code",
   "execution_count": 1,
   "metadata": {},
   "outputs": [],
   "source": [
    "import numpy as np\n",
    "import fractions\n",
    "import scipy.linalg as ln"
   ]
  },
  {
   "cell_type": "code",
   "execution_count": 2,
   "metadata": {},
   "outputs": [
    {
     "name": "stdout",
     "output_type": "stream",
     "text": [
      "[[0.20375242 0.40861315 0.828105  ]\n",
      " [0.92324444 0.82986077 0.71526666]\n",
      " [0.28377695 0.08088559 0.83279633]]\n"
     ]
    }
   ],
   "source": [
    "A = np.random.random_sample((3, 3))\n",
    "\n",
    "A = np.matrix(A)\n",
    "print(A)"
   ]
  },
  {
   "cell_type": "code",
   "execution_count": 3,
   "metadata": {},
   "outputs": [
    {
     "name": "stdout",
     "output_type": "stream",
     "text": [
      "eigvalue:  [-0.25875485  1.53099504  0.59416933]\n",
      "eigvectors:\n",
      "[[-0.80327224  0.43614258 -0.08453338]\n",
      " [ 0.57187997  0.85635372 -0.9088008 ]\n",
      " [ 0.16645422  0.27647414  0.40857705]]\n"
     ]
    }
   ],
   "source": [
    "eigvalue, eigvectors = np.linalg.eig(A)\n",
    "print(\"eigvalue: \", eigvalue)\n",
    "print(\"eigvectors:\")\n",
    "print(eigvectors)"
   ]
  },
  {
   "cell_type": "code",
   "execution_count": 4,
   "metadata": {},
   "outputs": [
    {
     "name": "stdout",
     "output_type": "stream",
     "text": [
      "[[0.77201226 0.         0.        ]\n",
      " [0.         4.62277437 0.        ]\n",
      " [0.         0.         1.81152554]]\n"
     ]
    }
   ],
   "source": [
    "e_Lambda = np.eye(np.size(A, 0))*(np.exp(eigvalue))\n",
    "print(e_Lambda)"
   ]
  },
  {
   "cell_type": "code",
   "execution_count": 5,
   "metadata": {},
   "outputs": [
    {
     "name": "stdout",
     "output_type": "stream",
     "text": [
      "[[1.76552093 0.84876429 1.87839416]\n",
      " [1.96915947 2.78748774 2.57825286]\n",
      " [0.61832427 0.32093074 2.65330349]]\n"
     ]
    }
   ],
   "source": [
    "e_A = eigvectors*e_Lambda*eigvectors.I\n",
    "print(e_A)"
   ]
  },
  {
   "cell_type": "code",
   "execution_count": 6,
   "metadata": {},
   "outputs": [
    {
     "name": "stdout",
     "output_type": "stream",
     "text": [
      "[[1.76552093 0.84876429 1.87839416]\n",
      " [1.96915947 2.78748774 2.57825286]\n",
      " [0.61832427 0.32093074 2.65330349]]\n"
     ]
    }
   ],
   "source": [
    "e_A2 = ln.expm(A)\n",
    "print(e_A2)"
   ]
  },
  {
   "cell_type": "code",
   "execution_count": 7,
   "metadata": {},
   "outputs": [
    {
     "name": "stdout",
     "output_type": "stream",
     "text": [
      "[[-4.44089210e-16  0.00000000e+00 -6.66133815e-16]\n",
      " [-1.11022302e-15 -8.88178420e-16 -1.33226763e-15]\n",
      " [-5.55111512e-16 -2.22044605e-16 -4.44089210e-16]]\n"
     ]
    }
   ],
   "source": [
    "np.testing.assert_allclose(e_A, e_A2)\n",
    "print(e_A - e_A2)"
   ]
  },
  {
   "cell_type": "code",
   "execution_count": null,
   "metadata": {},
   "outputs": [],
   "source": []
  }
 ],
 "metadata": {
  "kernelspec": {
   "display_name": "Python 3",
   "language": "python",
   "name": "python3"
  },
  "language_info": {
   "codemirror_mode": {
    "name": "ipython",
    "version": 3
   },
   "file_extension": ".py",
   "mimetype": "text/x-python",
   "name": "python",
   "nbconvert_exporter": "python",
   "pygments_lexer": "ipython3",
   "version": "3.6.9"
  }
 },
 "nbformat": 4,
 "nbformat_minor": 4
}
