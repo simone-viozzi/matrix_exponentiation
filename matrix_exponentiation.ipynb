{
 "cells": [
  {
   "cell_type": "code",
   "execution_count": 1,
   "metadata": {},
   "outputs": [],
   "source": [
    "import numpy as np\n",
    "import scipy.linalg as ln"
   ]
  },
  {
   "cell_type": "code",
   "execution_count": 2,
   "metadata": {},
   "outputs": [
    {
     "name": "stdout",
     "output_type": "stream",
     "text": [
      "[[0.0067025 +0.25343054j 0.61795724+0.96838745j 0.43673916+0.76715765j]\n",
      " [0.29236399+0.05978677j 0.95861261+0.89848625j 0.01957293+0.6924144j ]\n",
      " [0.17984179+0.39658124j 0.4295076 +0.1742465j  0.81003702+0.35233065j]]\n"
     ]
    }
   ],
   "source": [
    "shape = (3, 3)\n",
    "\n",
    "A = np.random.random(shape) + np.random.random(shape) * 1j\n",
    "\n",
    "A = np.matrix(A)\n",
    "print(A)"
   ]
  },
  {
   "cell_type": "code",
   "execution_count": 3,
   "metadata": {},
   "outputs": [
    {
     "name": "stdout",
     "output_type": "stream",
     "text": [
      "eigvalue:  [-0.20569381-0.11750538j  0.63136864+0.18455683j  1.34967731+1.437196j  ]\n",
      "eigvectors:\n",
      "[[ 0.87371191+0.j          0.19450961-0.1551287j   0.61218218+0.12941831j]\n",
      " [-0.19945071+0.24151784j -0.59951683-0.16177688j  0.65638835+0.j        ]\n",
      " [-0.17968658-0.32592757j  0.74330943+0.j          0.40634012-0.11191929j]]\n"
     ]
    }
   ],
   "source": [
    "eigvalue, eigvectors = np.linalg.eig(A)\n",
    "print(\"eigvalue: \", eigvalue)\n",
    "print(\"eigvectors:\")\n",
    "print(eigvectors)"
   ]
  },
  {
   "cell_type": "code",
   "execution_count": 4,
   "metadata": {},
   "outputs": [
    {
     "name": "stdout",
     "output_type": "stream",
     "text": [
      "[[0.80846854-0.09543906j 0.        +0.j         0.        +0.j        ]\n",
      " [0.        +0.j         1.84825225+0.34503392j 0.        +0.j        ]\n",
      " [0.        +0.j         0.        +0.j         0.5136558 +3.82181754j]]\n"
     ]
    }
   ],
   "source": [
    "e_Lambda = np.eye(np.size(A, 0))*(np.exp(eigvalue))\n",
    "print(e_Lambda)"
   ]
  },
  {
   "cell_type": "code",
   "execution_count": 5,
   "metadata": {},
   "outputs": [
    {
     "name": "stdout",
     "output_type": "stream",
     "text": [
      "[[ 0.65058039+0.56268318j -0.57911608+2.11318328j -0.65902432+1.27143979j]\n",
      " [-0.00803705+0.36105732j  1.06723858+2.41901742j -1.15456694+1.40663108j]\n",
      " [ 0.0139765 +0.74286754j  0.01804776+1.15581927j  1.45255763+1.0897118j ]]\n"
     ]
    }
   ],
   "source": [
    "e_A = eigvectors*e_Lambda*eigvectors.I\n",
    "print(e_A)"
   ]
  },
  {
   "cell_type": "code",
   "execution_count": 6,
   "metadata": {},
   "outputs": [
    {
     "name": "stdout",
     "output_type": "stream",
     "text": [
      "[[ 0.65058039+0.56268318j -0.57911608+2.11318328j -0.65902432+1.27143979j]\n",
      " [-0.00803705+0.36105732j  1.06723858+2.41901742j -1.15456694+1.40663108j]\n",
      " [ 0.0139765 +0.74286754j  0.01804776+1.15581927j  1.45255763+1.0897118j ]]\n"
     ]
    }
   ],
   "source": [
    "e_A2 = ln.expm(A)\n",
    "print(e_A2)"
   ]
  },
  {
   "cell_type": "code",
   "execution_count": 7,
   "metadata": {},
   "outputs": [
    {
     "name": "stdout",
     "output_type": "stream",
     "text": [
      "[[ 0.00000000e+00+0.00000000e+00j  1.44328993e-15-8.88178420e-16j\n",
      "   1.11022302e-16-2.22044605e-16j]\n",
      " [-5.55111512e-17-1.66533454e-16j  2.22044605e-16+0.00000000e+00j\n",
      "  -2.22044605e-16+2.22044605e-16j]\n",
      " [ 2.77555756e-17+0.00000000e+00j  8.04911693e-16+0.00000000e+00j\n",
      "  -4.44089210e-16-1.11022302e-15j]]\n"
     ]
    }
   ],
   "source": [
    "np.testing.assert_allclose(e_A, e_A2)\n",
    "print(e_A - e_A2)"
   ]
  },
  {
   "cell_type": "code",
   "execution_count": null,
   "metadata": {},
   "outputs": [],
   "source": []
  }
 ],
 "metadata": {
  "kernelspec": {
   "display_name": "Python 3",
   "language": "python",
   "name": "python3"
  },
  "language_info": {
   "codemirror_mode": {
    "name": "ipython",
    "version": 3
   },
   "file_extension": ".py",
   "mimetype": "text/x-python",
   "name": "python",
   "nbconvert_exporter": "python",
   "pygments_lexer": "ipython3",
   "version": "3.6.9"
  }
 },
 "nbformat": 4,
 "nbformat_minor": 4
}
